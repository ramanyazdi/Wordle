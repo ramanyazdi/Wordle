{
 "cells": [
  {
   "cell_type": "markdown",
   "id": "cbed10b6",
   "metadata": {},
   "source": [
    "<div style=\"text-align: center;\">\n",
    "    <h1>Wordle</h1>\n",
    "</div>"
   ]
  },
  {
   "cell_type": "markdown",
   "id": "35cbab43",
   "metadata": {},
   "source": [
    "**Wordle** is a browser-based video game purchased by the New York Times. It is a popular online word puzzle game. In Wordle, players are given six chances to guess a secret five-letter word. After each guess, the game provides feedback by highlighting correct letters in green, letters that are correct but in the wrong position in yellow, and incorrect letters in gray.\n",
    "\n",
    "Now what is the best word to start the Wordle game? \n",
    "\n",
    "To answer, first we need a list of english words."
   ]
  },
  {
   "cell_type": "code",
   "execution_count": 31,
   "id": "e0efec0b",
   "metadata": {},
   "outputs": [],
   "source": [
    "import pandas as pd"
   ]
  },
  {
   "cell_type": "markdown",
   "id": "a8ffaf1f",
   "metadata": {},
   "source": [
    "In linux, the /usr/share/dict/ directory contains some of the dictionary files. Dictionary files are text files that contain a list of dictionary words. We can use this list to check whether a word is a dictionary word or not. I am using windows and I downlowd and open the file as below:"
   ]
  },
  {
   "cell_type": "code",
   "execution_count": 1,
   "id": "ff21e3b8",
   "metadata": {},
   "outputs": [],
   "source": [
    "with open(\"D:\\Jadi\\linuxwords.1\\words.txt\") as f:\n",
    "    words = f.readlines()"
   ]
  },
  {
   "cell_type": "code",
   "execution_count": null,
   "id": "f7915efc",
   "metadata": {},
   "outputs": [],
   "source": [
    "words"
   ]
  },
  {
   "cell_type": "markdown",
   "id": "e3216d6c",
   "metadata": {},
   "source": [
    "<div style=\"text-align: center;\">\n",
    "    <h1>Data Correction</h1>\n",
    "</div>"
   ]
  },
  {
   "cell_type": "markdown",
   "id": "5355f983",
   "metadata": {},
   "source": [
    "Iterating over each element in the original list words, strips leading and trailing whitespaces from each element, and creates a new list with the cleaned-up strings."
   ]
  },
  {
   "cell_type": "code",
   "execution_count": 34,
   "id": "b70202e9",
   "metadata": {},
   "outputs": [],
   "source": [
    "words = [w.strip() for w in words]"
   ]
  },
  {
   "cell_type": "code",
   "execution_count": 35,
   "id": "c232ddd9",
   "metadata": {},
   "outputs": [],
   "source": [
    "# convert all the words in a list to lowercase \n",
    "words = [w.lower() for w in words]"
   ]
  },
  {
   "cell_type": "code",
   "execution_count": 2,
   "id": "27b4b35d",
   "metadata": {},
   "outputs": [],
   "source": [
    "words"
   ]
  },
  {
   "cell_type": "markdown",
   "id": "5b1323ce",
   "metadata": {},
   "source": [
    "**Letter frequency** is the number of times letters of the alphabet appear on average in written language. \n",
    "\n",
    "We define a string based on letter frequency in descending order. \n",
    "\n",
    "To see the letter frequency, check the link below:\n",
    "\n",
    "https://en.wikipedia.org/wiki/Letter_frequency "
   ]
  },
  {
   "cell_type": "code",
   "execution_count": 19,
   "id": "5081ee01",
   "metadata": {},
   "outputs": [],
   "source": [
    "freq = 'esiarntolcdugpmkhbyfvwzxqj'"
   ]
  },
  {
   "cell_type": "markdown",
   "id": "90a0f8b7",
   "metadata": {},
   "source": [
    "- We Iterate over each word in our words list.\n",
    "- We only consider 5 letter words because Wordle only accept 5 letter word. \n",
    "- We ignore word with dublicate letter. With a dublicate letter we reduce our chance to provide more different letter. \n",
    "- We ignore words that includes number or mark. In fact only consider the word that include letter in our freq string. \n",
    "- we allocate the freq index of the letter to any letter of a word and add them. freq is a string based on letter frequency in descending order, so the lower the score the better the word for start the game. "
   ]
  },
  {
   "cell_type": "code",
   "execution_count": 38,
   "id": "6bf3bca7",
   "metadata": {},
   "outputs": [
    {
     "name": "stdout",
     "output_type": "stream",
     "text": [
      "2,4-d 410\n",
      "abdel 38\n",
      "abend 35\n",
      "abert 30\n",
      "abets 27\n",
      "abies 23\n",
      "acers 17\n",
      "acies 15\n",
      "aesir 10\n"
     ]
    }
   ],
   "source": [
    "# Initialize a variable 'high_score' with an arbitrary high value (10000 in this case).\n",
    "high_score = 10000\n",
    "\n",
    "# Iterate over each word ('w') in the list 'words'.\n",
    "for w in words:\n",
    "    if len(w) != 5: # Check the length of word because Wordle only accept 5 letter word. \n",
    "        continue \n",
    "    if len(set(list(w))) != 5: # check word with dublicate letter\n",
    "        continue \n",
    "        \n",
    "    score = 0 \n",
    "    # Iterate over each character ('c') in the word ('w').\n",
    "    for c in w:\n",
    "        # Check if the character 'c' is in a list or string called 'freq'.\n",
    "        if c in freq: \n",
    "            score += freq.index(c) \n",
    "        else:\n",
    "            score += 100\n",
    "    # Check if the calculated score for the current word is less than the current 'high_score'.\n",
    "    if score < high_score:\n",
    "        print(w, score)\n",
    "        high_score = score\n"
   ]
  },
  {
   "cell_type": "markdown",
   "id": "27b290b4",
   "metadata": {},
   "source": [
    "<div style=\"text-align: center;\">\n",
    "    <h1>So \"aesir\" is the best word to start Wordle game. </h1>\n",
    "</div>\n",
    "\n"
   ]
  },
  {
   "cell_type": "code",
   "execution_count": null,
   "id": "a5c1efb3",
   "metadata": {},
   "outputs": [],
   "source": []
  }
 ],
 "metadata": {
  "kernelspec": {
   "display_name": "Python 3 (ipykernel)",
   "language": "python",
   "name": "python3"
  },
  "language_info": {
   "codemirror_mode": {
    "name": "ipython",
    "version": 3
   },
   "file_extension": ".py",
   "mimetype": "text/x-python",
   "name": "python",
   "nbconvert_exporter": "python",
   "pygments_lexer": "ipython3",
   "version": "3.11.3"
  }
 },
 "nbformat": 4,
 "nbformat_minor": 5
}
